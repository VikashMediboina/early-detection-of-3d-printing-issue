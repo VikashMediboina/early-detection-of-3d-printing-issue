{
 "cells": [
  {
   "cell_type": "code",
   "execution_count": 1,
   "metadata": {},
   "outputs": [],
   "source": [
    "import pandas as pd"
   ]
  },
  {
   "cell_type": "code",
   "execution_count": 20,
   "metadata": {},
   "outputs": [
    {
     "data": {
      "text/plain": [
       "Index(['img_path', 'printer_id', 'print_id', 'has_under_extrusion'], dtype='object')"
      ]
     },
     "execution_count": 20,
     "metadata": {},
     "output_type": "execute_result"
    }
   ],
   "source": [
    "data = pd.read_csv(\"/Users/vikashmediboina/Downloads/early-detection-of-3d-printing-issues/train.csv\")\n",
    "data.columns"
   ]
  },
  {
   "cell_type": "code",
   "execution_count": 21,
   "metadata": {},
   "outputs": [
    {
     "data": {
      "text/plain": [
       "array([1, 0])"
      ]
     },
     "execution_count": 21,
     "metadata": {},
     "output_type": "execute_result"
    }
   ],
   "source": [
    "data['has_under_extrusion'].unique()"
   ]
  },
  {
   "cell_type": "code",
   "execution_count": null,
   "metadata": {},
   "outputs": [],
   "source": []
  },
  {
   "cell_type": "code",
   "execution_count": 22,
   "metadata": {},
   "outputs": [],
   "source": [
    "data[\"img_path\"]= [\"/Users/vikashmediboina/Downloads/early-detection-of-3d-printing-issues/images/\" + each for each in data[\"img_path\"]]\n",
    "new_path=\"/Users/vikashmediboina/Downloads/early-detection-of-3d-printing-issues/output\"\n",
    "data['new_path']=[new_path + str(each) for each in data[\"has_under_extrusion\"]]"
   ]
  },
  {
   "cell_type": "code",
   "execution_count": 23,
   "metadata": {},
   "outputs": [],
   "source": [
    "\n",
    "import os\n",
    "import shutil\n",
    "# import pandas as pd\n",
    "\n",
    "# df = pd.read_csv('your_csv_file.csv')\n",
    "\n",
    "for index, row in data.iterrows():\n",
    "    if not os.path.exists(row['new_path']):\n",
    "        os.makedirs(row['new_path'])\n",
    "    shutil.move(row['img_path'], row['new_path'])"
   ]
  },
  {
   "cell_type": "code",
   "execution_count": 26,
   "metadata": {},
   "outputs": [
    {
     "data": {
      "text/plain": [
       "44342"
      ]
     },
     "execution_count": 26,
     "metadata": {},
     "output_type": "execute_result"
    }
   ],
   "source": [
    "len(os.listdir(new_path+\"1\"))"
   ]
  },
  {
   "cell_type": "code",
   "execution_count": null,
   "metadata": {},
   "outputs": [],
   "source": []
  }
 ],
 "metadata": {
  "kernelspec": {
   "display_name": "Python 3.8.13",
   "language": "python",
   "name": "python3"
  },
  "language_info": {
   "codemirror_mode": {
    "name": "ipython",
    "version": 3
   },
   "file_extension": ".py",
   "mimetype": "text/x-python",
   "name": "python",
   "nbconvert_exporter": "python",
   "pygments_lexer": "ipython3",
   "version": "3.8.13"
  },
  "orig_nbformat": 4,
  "vscode": {
   "interpreter": {
    "hash": "e502a350bd020d6a9c7e743c1784ff71a13ff94b5da5482b9df8d9f09f8b482c"
   }
  }
 },
 "nbformat": 4,
 "nbformat_minor": 2
}
